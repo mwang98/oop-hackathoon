{
 "cells": [
  {
   "cell_type": "code",
   "execution_count": null,
   "id": "8c22e820",
   "metadata": {},
   "outputs": [],
   "source": [
    "import requests\n",
    "class LLMClient:\n",
    "    def __init__(self, api_key):\n",
    "        self._url = 'https://np6jbwtoaiv4y8cw.us-east4.gcp.endpoints.huggingface.cloud/v1/chat/completions'\n",
    "        self._api_key = api_key\n",
    "\n",
    "    def make_chat_completions_request(self, model, messages, temperature, max_tokens):\n",
    "        headers = {\n",
    "            \"Authorization\": f\"Bearer {self._api_key}\",\n",
    "            \"Content-Type\": \"application/json\",\n",
    "        }\n",
    "        payload = {\n",
    "            \"model\": model,\n",
    "            \"messages\": messages,\n",
    "            \"temperature\": temperature,\n",
    "            \"max_tokens\": max_tokens,\n",
    "            \"stream\": False,\n",
    "        }\n",
    "        response = requests.post(self._url, headers=headers, json=payload, timeout=60)\n",
    "        response.raise_for_status()\n",
    "        return response.json()"
   ]
  },
  {
   "cell_type": "code",
   "execution_count": 3,
   "id": "323328dc",
   "metadata": {},
   "outputs": [
    {
     "name": "stdout",
     "output_type": "stream",
     "text": [
      "{'object': 'chat.completion', 'id': '', 'created': 1747523778, 'model': '27b-text-it', 'system_fingerprint': '3.2.3-sha-a1f3ebe', 'choices': [{'index': 0, 'message': {'role': 'assistant', 'content': \"Hello! As an AI, I don't have feelings in the human sense, but I'm functioning well and ready to help. How can I assist you today?\\n\"}, 'logprobs': None, 'finish_reason': 'stop'}], 'usage': {'prompt_tokens': 15, 'completion_tokens': 37, 'total_tokens': 52}}\n"
     ]
    }
   ],
   "source": [
    "llmClient = LLMClient()\n",
    "\n",
    "response = llmClient.make_chat_completions_request(\n",
    "    model=\"27b-text-it\",\n",
    "    messages=[\n",
    "        {\"role\": \"user\", \"content\": \"Hello, how are you?\"},\n",
    "    ],\n",
    "    temperature=0.7,\n",
    "    max_tokens=150\n",
    ")\n",
    "\n",
    "print(response)"
   ]
  },
  {
   "cell_type": "code",
   "execution_count": null,
   "id": "cd529a5c",
   "metadata": {},
   "outputs": [],
   "source": []
  }
 ],
 "metadata": {
  "kernelspec": {
   "display_name": "venv",
   "language": "python",
   "name": "python3"
  },
  "language_info": {
   "codemirror_mode": {
    "name": "ipython",
    "version": 3
   },
   "file_extension": ".py",
   "mimetype": "text/x-python",
   "name": "python",
   "nbconvert_exporter": "python",
   "pygments_lexer": "ipython3",
   "version": "3.11.9"
  }
 },
 "nbformat": 4,
 "nbformat_minor": 5
}
